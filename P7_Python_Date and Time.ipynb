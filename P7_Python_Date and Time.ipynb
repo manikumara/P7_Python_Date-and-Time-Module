{
 "cells": [
  {
   "cell_type": "markdown",
   "metadata": {},
   "source": [
    "## Datetime module"
   ]
  },
  {
   "cell_type": "code",
   "execution_count": 112,
   "metadata": {
    "ExecuteTime": {
     "end_time": "2021-10-05T20:39:50.461075Z",
     "start_time": "2021-10-05T20:39:50.455081Z"
    }
   },
   "outputs": [],
   "source": [
    "import datetime"
   ]
  },
  {
   "cell_type": "code",
   "execution_count": 5,
   "metadata": {
    "ExecuteTime": {
     "end_time": "2021-10-05T19:28:27.524158Z",
     "start_time": "2021-10-05T19:28:27.508166Z"
    }
   },
   "outputs": [
    {
     "name": "stdout",
     "output_type": "stream",
     "text": [
      "2021-10-06 00:57:56.221176\n"
     ]
    }
   ],
   "source": [
    "datetime_objectdatetime_object= datetime.datetime.now()\n",
    "print(datetime_object)"
   ]
  },
  {
   "cell_type": "code",
   "execution_count": 9,
   "metadata": {
    "ExecuteTime": {
     "end_time": "2021-10-05T19:31:18.307860Z",
     "start_time": "2021-10-05T19:31:18.289867Z"
    }
   },
   "outputs": [
    {
     "name": "stdout",
     "output_type": "stream",
     "text": [
      "2021-10-06\n"
     ]
    }
   ],
   "source": [
    "#current date\n",
    "d = datetime.date.today()\n",
    "print(d)"
   ]
  },
  {
   "cell_type": "code",
   "execution_count": 11,
   "metadata": {
    "ExecuteTime": {
     "end_time": "2021-10-05T19:32:21.694131Z",
     "start_time": "2021-10-05T19:32:21.681142Z"
    }
   },
   "outputs": [
    {
     "name": "stdout",
     "output_type": "stream",
     "text": [
      "2019-04-13\n"
     ]
    }
   ],
   "source": [
    "d= datetime.date(2019,4,13)\n",
    "print(d)"
   ]
  },
  {
   "cell_type": "markdown",
   "metadata": {},
   "source": [
    "## Get date from the timestamp\n"
   ]
  },
  {
   "cell_type": "code",
   "execution_count": 19,
   "metadata": {
    "ExecuteTime": {
     "end_time": "2021-10-05T19:40:00.261670Z",
     "start_time": "2021-10-05T19:40:00.253675Z"
    }
   },
   "outputs": [
    {
     "name": "stdout",
     "output_type": "stream",
     "text": [
      "Date= 2022-01-19\n"
     ]
    }
   ],
   "source": [
    "#1642545896- Random number\n",
    "from datetime import date\n",
    "timestamp = date.fromtimestamp(1642545896)\n",
    "print(\"Date=\",timestamp)"
   ]
  },
  {
   "cell_type": "code",
   "execution_count": 28,
   "metadata": {
    "ExecuteTime": {
     "end_time": "2021-10-05T19:43:58.307165Z",
     "start_time": "2021-10-05T19:43:58.299168Z"
    }
   },
   "outputs": [
    {
     "name": "stdout",
     "output_type": "stream",
     "text": [
      "current year: 2021\n",
      "current month: 10\n",
      "current date: 6\n"
     ]
    }
   ],
   "source": [
    "#Current year, date, month\n",
    "today= date.today()\n",
    "print('current year:', today.year)\n",
    "print('current month:', today.month)\n",
    "print('current date:', today.day)"
   ]
  },
  {
   "cell_type": "code",
   "execution_count": 30,
   "metadata": {
    "ExecuteTime": {
     "end_time": "2021-10-05T19:45:00.510546Z",
     "start_time": "2021-10-05T19:45:00.498551Z"
    }
   },
   "outputs": [],
   "source": [
    "from datetime import time"
   ]
  },
  {
   "cell_type": "code",
   "execution_count": 35,
   "metadata": {
    "ExecuteTime": {
     "end_time": "2021-10-05T19:47:52.189872Z",
     "start_time": "2021-10-05T19:47:52.169881Z"
    }
   },
   "outputs": [
    {
     "name": "stdout",
     "output_type": "stream",
     "text": [
      "a= 00:00:00\n",
      "b= 11:34:56\n",
      "c= 11:34:56.234500\n"
     ]
    }
   ],
   "source": [
    "#Representing time\n",
    "a = time()\n",
    "print('a=', a)\n",
    "b = time(11, 34,56)\n",
    "print('b=', b)\n",
    "c = time(11, 34,56,234500)\n",
    "print('c=', c)"
   ]
  },
  {
   "cell_type": "code",
   "execution_count": 41,
   "metadata": {
    "ExecuteTime": {
     "end_time": "2021-10-05T19:51:05.848015Z",
     "start_time": "2021-10-05T19:51:05.831030Z"
    }
   },
   "outputs": [
    {
     "name": "stdout",
     "output_type": "stream",
     "text": [
      "11\n",
      "34\n",
      "56\n",
      "0\n"
     ]
    }
   ],
   "source": [
    "#Extracting from time\n",
    "a = time(11,34,56)\n",
    "print(a.hour)\n",
    "print(a.minute)\n",
    "print(a.second)\n",
    "print(a.microsecond)"
   ]
  },
  {
   "cell_type": "markdown",
   "metadata": {},
   "source": [
    "## datetime.timeDelta"
   ]
  },
  {
   "cell_type": "code",
   "execution_count": null,
   "metadata": {},
   "outputs": [],
   "source": [
    "#timeDelta represent the difference between the two dates or times"
   ]
  },
  {
   "cell_type": "code",
   "execution_count": 47,
   "metadata": {
    "ExecuteTime": {
     "end_time": "2021-10-05T19:55:37.302922Z",
     "start_time": "2021-10-05T19:55:37.292934Z"
    }
   },
   "outputs": [
    {
     "name": "stdout",
     "output_type": "stream",
     "text": [
      "1162 days, 0:00:00\n"
     ]
    }
   ],
   "source": [
    "t1 = date(2018, 2,21)\n",
    "t2 = date(2021, 4,28)\n",
    "t3 = t2- t1\n",
    "print(t3)"
   ]
  },
  {
   "cell_type": "code",
   "execution_count": 46,
   "metadata": {
    "ExecuteTime": {
     "end_time": "2021-10-05T19:55:24.619155Z",
     "start_time": "2021-10-05T19:55:24.605161Z"
    }
   },
   "outputs": [
    {
     "data": {
      "text/plain": [
       "datetime.timedelta"
      ]
     },
     "execution_count": 46,
     "metadata": {},
     "output_type": "execute_result"
    }
   ],
   "source": [
    "type(t3)"
   ]
  },
  {
   "cell_type": "code",
   "execution_count": 53,
   "metadata": {
    "ExecuteTime": {
     "end_time": "2021-10-05T19:56:40.487468Z",
     "start_time": "2021-10-05T19:56:40.473476Z"
    }
   },
   "outputs": [
    {
     "data": {
      "text/plain": [
       "1162"
      ]
     },
     "execution_count": 53,
     "metadata": {},
     "output_type": "execute_result"
    }
   ],
   "source": [
    "t3.days"
   ]
  },
  {
   "cell_type": "code",
   "execution_count": 76,
   "metadata": {
    "ExecuteTime": {
     "end_time": "2021-10-05T20:14:14.599372Z",
     "start_time": "2021-10-05T20:14:14.587378Z"
    }
   },
   "outputs": [
    {
     "name": "stdout",
     "output_type": "stream",
     "text": [
      "1161 days, 23:47:11.099000\n"
     ]
    }
   ],
   "source": [
    "#date and time exact difference\n",
    "t4 = datetime.datetime(year = 2018, month = 2, day = 21, hour = 3, minute = 45, second= 23, microsecond = 345600)\n",
    "t5 = datetime.datetime(2021, 4,28,3,32,34,444600)\n",
    "t6 = t5-t4\n",
    "print(t6)"
   ]
  },
  {
   "cell_type": "code",
   "execution_count": 77,
   "metadata": {
    "ExecuteTime": {
     "end_time": "2021-10-05T20:14:30.259854Z",
     "start_time": "2021-10-05T20:14:30.243864Z"
    }
   },
   "outputs": [
    {
     "data": {
      "text/plain": [
       "100396031.099"
      ]
     },
     "execution_count": 77,
     "metadata": {},
     "output_type": "execute_result"
    }
   ],
   "source": [
    "#Total no of seconds\n",
    "t6.total_seconds()"
   ]
  },
  {
   "cell_type": "markdown",
   "metadata": {
    "ExecuteTime": {
     "end_time": "2021-10-05T20:14:09.495408Z",
     "start_time": "2021-10-05T20:14:09.476420Z"
    }
   },
   "source": [
    "## Python format datetime"
   ]
  },
  {
   "cell_type": "code",
   "execution_count": 81,
   "metadata": {
    "ExecuteTime": {
     "end_time": "2021-10-05T20:17:29.533683Z",
     "start_time": "2021-10-05T20:17:29.521688Z"
    }
   },
   "outputs": [
    {
     "name": "stdout",
     "output_type": "stream",
     "text": [
      "2021-10-06 01:47:29.523687\n"
     ]
    }
   ],
   "source": [
    "#strftime- change time to dstr\n",
    "from datetime import datetime\n",
    "now = datetime.now()\n",
    "print(now)"
   ]
  },
  {
   "cell_type": "code",
   "execution_count": null,
   "metadata": {},
   "outputs": [],
   "source": [
    "#Extracting year as string form datetime using strftime"
   ]
  },
  {
   "cell_type": "code",
   "execution_count": 85,
   "metadata": {
    "ExecuteTime": {
     "end_time": "2021-10-05T20:19:26.739083Z",
     "start_time": "2021-10-05T20:19:26.730089Z"
    }
   },
   "outputs": [
    {
     "data": {
      "text/plain": [
       "'2021'"
      ]
     },
     "execution_count": 85,
     "metadata": {},
     "output_type": "execute_result"
    }
   ],
   "source": [
    "datetime.strftime(now,'%Y')"
   ]
  },
  {
   "cell_type": "code",
   "execution_count": 87,
   "metadata": {
    "ExecuteTime": {
     "end_time": "2021-10-05T20:19:47.633018Z",
     "start_time": "2021-10-05T20:19:47.625022Z"
    }
   },
   "outputs": [
    {
     "data": {
      "text/plain": [
       "'10'"
      ]
     },
     "execution_count": 87,
     "metadata": {},
     "output_type": "execute_result"
    }
   ],
   "source": [
    "datetime.strftime(now,'%m')"
   ]
  },
  {
   "cell_type": "code",
   "execution_count": 88,
   "metadata": {
    "ExecuteTime": {
     "end_time": "2021-10-05T20:20:45.427438Z",
     "start_time": "2021-10-05T20:20:45.409449Z"
    }
   },
   "outputs": [
    {
     "data": {
      "text/plain": [
       "'06'"
      ]
     },
     "execution_count": 88,
     "metadata": {},
     "output_type": "execute_result"
    }
   ],
   "source": [
    "datetime.strftime(now,'%d')"
   ]
  },
  {
   "cell_type": "code",
   "execution_count": 91,
   "metadata": {
    "ExecuteTime": {
     "end_time": "2021-10-05T20:24:43.844060Z",
     "start_time": "2021-10-05T20:24:43.831073Z"
    }
   },
   "outputs": [
    {
     "name": "stdout",
     "output_type": "stream",
     "text": [
      "01:47:29\n"
     ]
    }
   ],
   "source": [
    "time = now.strftime('%H:%M:%S')\n",
    "print(time)"
   ]
  },
  {
   "cell_type": "code",
   "execution_count": 93,
   "metadata": {
    "ExecuteTime": {
     "end_time": "2021-10-05T20:27:52.558313Z",
     "start_time": "2021-10-05T20:27:52.541322Z"
    }
   },
   "outputs": [
    {
     "name": "stdout",
     "output_type": "stream",
     "text": [
      "2021/10/06 01:47:29\n"
     ]
    }
   ],
   "source": [
    "time = now.strftime('%Y/%m/%d %H:%M:%S')\n",
    "print(time)"
   ]
  },
  {
   "cell_type": "code",
   "execution_count": 100,
   "metadata": {
    "ExecuteTime": {
     "end_time": "2021-10-05T20:33:06.547572Z",
     "start_time": "2021-10-05T20:33:06.538577Z"
    }
   },
   "outputs": [
    {
     "ename": "SyntaxError",
     "evalue": "invalid syntax (<ipython-input-100-b73773ea737d>, line 6)",
     "output_type": "error",
     "traceback": [
      "\u001b[1;36m  File \u001b[1;32m\"<ipython-input-100-b73773ea737d>\"\u001b[1;36m, line \u001b[1;32m6\u001b[0m\n\u001b[1;33m    print(d)%%!\u001b[0m\n\u001b[1;37m             ^\u001b[0m\n\u001b[1;31mSyntaxError\u001b[0m\u001b[1;31m:\u001b[0m invalid syntax\n"
     ]
    }
   ],
   "source": [
    "from datetime import datetime\n",
    "timestamp = 1545676545\n",
    "date_time = datetime.fromtimestamp(timestamp)\n",
    "print(date_time)\n",
    "d = date_time.strftime('%Y/%m/%d , %H:%M:%S')\n",
    "print(d)"
   ]
  },
  {
   "cell_type": "code",
   "execution_count": 101,
   "metadata": {
    "ExecuteTime": {
     "end_time": "2021-10-05T20:34:37.666831Z",
     "start_time": "2021-10-05T20:34:37.649841Z"
    }
   },
   "outputs": [
    {
     "name": "stdout",
     "output_type": "stream",
     "text": [
      "25 Dec, 2018\n"
     ]
    }
   ],
   "source": [
    "d = date_time.strftime('%d %b, %Y')\n",
    "print(d)"
   ]
  },
  {
   "cell_type": "code",
   "execution_count": 102,
   "metadata": {
    "ExecuteTime": {
     "end_time": "2021-10-05T20:35:04.546481Z",
     "start_time": "2021-10-05T20:35:04.528488Z"
    }
   },
   "outputs": [
    {
     "name": "stdout",
     "output_type": "stream",
     "text": [
      "25 December, 2018\n"
     ]
    }
   ],
   "source": [
    "d = date_time.strftime('%d %B, %Y')\n",
    "print(d)"
   ]
  },
  {
   "cell_type": "code",
   "execution_count": 104,
   "metadata": {
    "ExecuteTime": {
     "end_time": "2021-10-05T20:36:09.234194Z",
     "start_time": "2021-10-05T20:36:09.218192Z"
    }
   },
   "outputs": [
    {
     "name": "stdout",
     "output_type": "stream",
     "text": [
      "12 AM\n"
     ]
    }
   ],
   "source": [
    "d = date_time.strftime('%I %p')\n",
    "print(d)"
   ]
  },
  {
   "cell_type": "code",
   "execution_count": 116,
   "metadata": {
    "ExecuteTime": {
     "end_time": "2021-10-05T20:40:47.767430Z",
     "start_time": "2021-10-05T20:40:47.749443Z"
    }
   },
   "outputs": [
    {
     "ename": "SyntaxError",
     "evalue": "invalid syntax (<ipython-input-116-0d29a981a063>, line 1)",
     "output_type": "error",
     "traceback": [
      "\u001b[1;36m  File \u001b[1;32m\"<ipython-input-116-0d29a981a063>\"\u001b[1;36m, line \u001b[1;32m1\u001b[0m\n\u001b[1;33m    date to timestamp\u001b[0m\n\u001b[1;37m          ^\u001b[0m\n\u001b[1;31mSyntaxError\u001b[0m\u001b[1;31m:\u001b[0m invalid syntax\n"
     ]
    }
   ],
   "source": [
    "date to timestamp\n",
    "d= datetime.datetime(2018,12,12).timestamp()\n",
    "print(d)"
   ]
  },
  {
   "cell_type": "code",
   "execution_count": 134,
   "metadata": {
    "ExecuteTime": {
     "end_time": "2021-10-05T20:51:22.999074Z",
     "start_time": "2021-10-05T20:51:22.984081Z"
    }
   },
   "outputs": [
    {
     "name": "stdout",
     "output_type": "stream",
     "text": [
      "2018-08-09 09:15:32\n"
     ]
    }
   ],
   "source": [
    "#string to date and time- strptime\n",
    "dt_string = \"09/08/2018 09:15:32\"\n",
    "dt_object = datetime.datetime.strptime(dt_string, '%d/%m/%Y %H:%M:%S')\n",
    "print(dt_object)"
   ]
  },
  {
   "cell_type": "code",
   "execution_count": 135,
   "metadata": {
    "ExecuteTime": {
     "end_time": "2021-10-05T20:51:24.867057Z",
     "start_time": "2021-10-05T20:51:24.849068Z"
    }
   },
   "outputs": [
    {
     "name": "stdout",
     "output_type": "stream",
     "text": [
      "2018-09-08 09:15:32\n"
     ]
    }
   ],
   "source": [
    "dt_object1 = datetime.datetime.strptime(dt_string, '%m/%d/%Y %H:%M:%S')\n",
    "print(dt_object1)"
   ]
  },
  {
   "cell_type": "code",
   "execution_count": null,
   "metadata": {},
   "outputs": [],
   "source": []
  }
 ],
 "metadata": {
  "kernelspec": {
   "display_name": "Python 3",
   "language": "python",
   "name": "python3"
  },
  "language_info": {
   "codemirror_mode": {
    "name": "ipython",
    "version": 3
   },
   "file_extension": ".py",
   "mimetype": "text/x-python",
   "name": "python",
   "nbconvert_exporter": "python",
   "pygments_lexer": "ipython3",
   "version": "3.7.4"
  },
  "varInspector": {
   "cols": {
    "lenName": 16,
    "lenType": 16,
    "lenVar": 40
   },
   "kernels_config": {
    "python": {
     "delete_cmd_postfix": "",
     "delete_cmd_prefix": "del ",
     "library": "var_list.py",
     "varRefreshCmd": "print(var_dic_list())"
    },
    "r": {
     "delete_cmd_postfix": ") ",
     "delete_cmd_prefix": "rm(",
     "library": "var_list.r",
     "varRefreshCmd": "cat(var_dic_list()) "
    }
   },
   "types_to_exclude": [
    "module",
    "function",
    "builtin_function_or_method",
    "instance",
    "_Feature"
   ],
   "window_display": false
  }
 },
 "nbformat": 4,
 "nbformat_minor": 2
}
